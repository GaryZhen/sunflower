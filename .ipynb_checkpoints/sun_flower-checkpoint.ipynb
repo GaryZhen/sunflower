{
 "cells": [
  {
   "cell_type": "markdown",
   "metadata": {},
   "source": [
    "## Final Project: The global warming \"troble maker\" Deep Dive\n",
    "### By Qiuyu Huang, Harshita Goyal, and Zhen Qi\n",
    "\n",
    "# Abstract\n",
    "<p>There has been a broad scientific consensus that the Earth's average temperature has been increasing over the past century due to human activity, primarily the burning of fossil fuels and deforestation. This warming trend is leading to a range of negative impacts on the environment, including rising sea levels, more frequent and severe weather events, and the loss of biodiversity.\n",
    "The effects of climate change can be felt in our daily lives, from the food we eat to the air we breathe. Addressing this issue will require a collective effort from individuals, governments, and businesses around the world.Given the far-reaching consequences of climate change on our daily lives, it is crucial to take collective action to mitigate its effects and ensure a sustainable future for coming generations</p>\n",
    "\n",
    "\n",
    "\n",
    "<p>As a team of data scientists, we aim to use data science techniques to analyze the key influencing factors of global warming. Our goal is to gain insights into the underlying causes of climate change and develop strategies to tackle the issue at its root. </p>"
   ]
  },
  {
   "cell_type": "markdown",
   "metadata": {},
   "source": [
    "## Data Source\n",
    "\n",
    "To achieve this, we plan to use the climate_change.csv dataset found at [dataset](https://www.kaggle.com/econdata/climate-change).\n",
    "\n",
    "The file climate_change.csv contains climate data from May 1983 to December 2008. The\n",
    "available variables include:\n",
    "Year, Month, Temp, CO2, N2O, CH4, CFC.11, CFC.12 and TSI.\n",
    "\n",
    "\n",
    "\n",
    "\n",
    "\n",
    "- **Year:** the observation year.\n",
    "\n",
    "- **Month:** the observation month.\n",
    "\n",
    "- **Temp:** the difference in degrees Celsius between the average global temperature in that period and a reference value. This data comes from the Climatic Research Unit at the University of East Anglia.\n",
    "\n",
    "- **CO2, N2O, CH4, CFC.11, CFC.12:**: atmospheric concentrations of carbon dioxide (CO2), nitrous oxide (N2O), methane (CH4), trichlorofluoromethane (CCl3F; commonly referred to as CFC-11) and dichlorodifluoromethane (CCl2F2; commonly referred to as CFC-12), respectively. This data comes from the ESRL/NOAA Global Monitoring Division. CO2, N2O and CH4 are expressed in ppmv (parts per million by volume -- i.e., 397 ppmv of CO2 means that CO2 constitutes 397 millionths of the total volume of the atmosphere). CFC.11 and CFC.12 are expressed in ppbv (parts per billion by volume).\n",
    "- **Aersols:** Aerosols: the mean stratospheric aerosol optical depth at 550 nm. This variable is linked to volcanoes, as volcanic eruptions result in new particles being added to the atmosphere, which affect how much of the sun's energy is reflected back into space. This data is from the Godard Institute for Space Studies at NASA.\n",
    "- **TSI:**: the total solar irradiance (TSI) in W/m2 (the rate at which the sun's energy is deposited per unit area). Due to sunspots and other solar phenomena, the amount of energy that is given off by the sun varies substantially with time. This data is from the SOLARIS-HEPPA project website.\n",
    "- **MEI:**: multivariate El Nino Southern Oscillation index (MEI), a measure of the strength of the El Nino/La Nina-Southern Oscillation (a weather effect in the Pacific Ocean that affects global temperatures). This data comes from the ESRL/NOAA Physical Sciences Division."
   ]
  },
  {
   "cell_type": "code",
   "execution_count": 1,
   "metadata": {},
   "outputs": [
    {
     "name": "stderr",
     "output_type": "stream",
     "text": [
      "/opt/anaconda3/lib/python3.7/site-packages/statsmodels/tools/_testing.py:19: FutureWarning: pandas.util.testing is deprecated. Use the functions in the public API at pandas.testing instead.\n",
      "  import pandas.util.testing as tm\n"
     ]
    }
   ],
   "source": [
    "import numpy as np\n",
    "import pandas as pd\n",
    "import scipy.stats as stats\n",
    "import matplotlib.pyplot as plt\n",
    "from matplotlib.colors import LogNorm\n",
    "import seaborn as sns\n",
    "from sklearn.preprocessing import scale\n",
    "import statsmodels.api as sm\n",
    "from sklearn.mixture import GaussianMixture\n",
    "\n",
    "import matplotlib\n",
    "from matplotlib import pyplot\n",
    "from sklearn.metrics import r2_score\n",
    "import mpl_toolkits.mplot3d as p3d\n",
    "\n",
    "%matplotlib inline\n",
    "SEED = 666"
   ]
  },
  {
   "cell_type": "markdown",
   "metadata": {},
   "source": [
    "# Data Display"
   ]
  },
  {
   "cell_type": "code",
   "execution_count": 2,
   "metadata": {},
   "outputs": [
    {
     "data": {
      "text/html": [
       "<div>\n",
       "<style scoped>\n",
       "    .dataframe tbody tr th:only-of-type {\n",
       "        vertical-align: middle;\n",
       "    }\n",
       "\n",
       "    .dataframe tbody tr th {\n",
       "        vertical-align: top;\n",
       "    }\n",
       "\n",
       "    .dataframe thead th {\n",
       "        text-align: right;\n",
       "    }\n",
       "</style>\n",
       "<table border=\"1\" class=\"dataframe\">\n",
       "  <thead>\n",
       "    <tr style=\"text-align: right;\">\n",
       "      <th></th>\n",
       "      <th>Year</th>\n",
       "      <th>Month</th>\n",
       "      <th>MEI</th>\n",
       "      <th>CO2</th>\n",
       "      <th>CH4</th>\n",
       "      <th>N2O</th>\n",
       "      <th>CCl3F</th>\n",
       "      <th>CCl2F2</th>\n",
       "      <th>TSI</th>\n",
       "      <th>Aerosols</th>\n",
       "      <th>Temp</th>\n",
       "    </tr>\n",
       "  </thead>\n",
       "  <tbody>\n",
       "    <tr>\n",
       "      <th>0</th>\n",
       "      <td>1983</td>\n",
       "      <td>5</td>\n",
       "      <td>2.556</td>\n",
       "      <td>345.96</td>\n",
       "      <td>1638.59</td>\n",
       "      <td>303.677</td>\n",
       "      <td>191.324</td>\n",
       "      <td>350.113</td>\n",
       "      <td>1366.1024</td>\n",
       "      <td>0.0863</td>\n",
       "      <td>0.109</td>\n",
       "    </tr>\n",
       "    <tr>\n",
       "      <th>1</th>\n",
       "      <td>1983</td>\n",
       "      <td>6</td>\n",
       "      <td>2.167</td>\n",
       "      <td>345.52</td>\n",
       "      <td>1633.71</td>\n",
       "      <td>303.746</td>\n",
       "      <td>192.057</td>\n",
       "      <td>351.848</td>\n",
       "      <td>1366.1208</td>\n",
       "      <td>0.0794</td>\n",
       "      <td>0.118</td>\n",
       "    </tr>\n",
       "    <tr>\n",
       "      <th>2</th>\n",
       "      <td>1983</td>\n",
       "      <td>7</td>\n",
       "      <td>1.741</td>\n",
       "      <td>344.15</td>\n",
       "      <td>1633.22</td>\n",
       "      <td>303.795</td>\n",
       "      <td>192.818</td>\n",
       "      <td>353.725</td>\n",
       "      <td>1366.2850</td>\n",
       "      <td>0.0731</td>\n",
       "      <td>0.137</td>\n",
       "    </tr>\n",
       "    <tr>\n",
       "      <th>3</th>\n",
       "      <td>1983</td>\n",
       "      <td>8</td>\n",
       "      <td>1.130</td>\n",
       "      <td>342.25</td>\n",
       "      <td>1631.35</td>\n",
       "      <td>303.839</td>\n",
       "      <td>193.602</td>\n",
       "      <td>355.633</td>\n",
       "      <td>1366.4202</td>\n",
       "      <td>0.0673</td>\n",
       "      <td>0.176</td>\n",
       "    </tr>\n",
       "    <tr>\n",
       "      <th>4</th>\n",
       "      <td>1983</td>\n",
       "      <td>9</td>\n",
       "      <td>0.428</td>\n",
       "      <td>340.17</td>\n",
       "      <td>1648.40</td>\n",
       "      <td>303.901</td>\n",
       "      <td>194.392</td>\n",
       "      <td>357.465</td>\n",
       "      <td>1366.2335</td>\n",
       "      <td>0.0619</td>\n",
       "      <td>0.149</td>\n",
       "    </tr>\n",
       "    <tr>\n",
       "      <th>5</th>\n",
       "      <td>1983</td>\n",
       "      <td>10</td>\n",
       "      <td>0.002</td>\n",
       "      <td>340.30</td>\n",
       "      <td>1663.79</td>\n",
       "      <td>303.970</td>\n",
       "      <td>195.171</td>\n",
       "      <td>359.174</td>\n",
       "      <td>1366.0589</td>\n",
       "      <td>0.0569</td>\n",
       "      <td>0.093</td>\n",
       "    </tr>\n",
       "    <tr>\n",
       "      <th>6</th>\n",
       "      <td>1983</td>\n",
       "      <td>11</td>\n",
       "      <td>-0.176</td>\n",
       "      <td>341.53</td>\n",
       "      <td>1658.23</td>\n",
       "      <td>304.032</td>\n",
       "      <td>195.921</td>\n",
       "      <td>360.758</td>\n",
       "      <td>1366.1072</td>\n",
       "      <td>0.0524</td>\n",
       "      <td>0.232</td>\n",
       "    </tr>\n",
       "    <tr>\n",
       "      <th>7</th>\n",
       "      <td>1983</td>\n",
       "      <td>12</td>\n",
       "      <td>-0.176</td>\n",
       "      <td>343.07</td>\n",
       "      <td>1654.31</td>\n",
       "      <td>304.082</td>\n",
       "      <td>196.609</td>\n",
       "      <td>362.174</td>\n",
       "      <td>1366.0607</td>\n",
       "      <td>0.0486</td>\n",
       "      <td>0.078</td>\n",
       "    </tr>\n",
       "    <tr>\n",
       "      <th>8</th>\n",
       "      <td>1984</td>\n",
       "      <td>1</td>\n",
       "      <td>-0.339</td>\n",
       "      <td>344.05</td>\n",
       "      <td>1658.98</td>\n",
       "      <td>304.130</td>\n",
       "      <td>197.219</td>\n",
       "      <td>363.359</td>\n",
       "      <td>1365.4261</td>\n",
       "      <td>0.0451</td>\n",
       "      <td>0.089</td>\n",
       "    </tr>\n",
       "    <tr>\n",
       "      <th>9</th>\n",
       "      <td>1984</td>\n",
       "      <td>2</td>\n",
       "      <td>-0.565</td>\n",
       "      <td>344.77</td>\n",
       "      <td>1656.48</td>\n",
       "      <td>304.194</td>\n",
       "      <td>197.759</td>\n",
       "      <td>364.296</td>\n",
       "      <td>1365.6618</td>\n",
       "      <td>0.0416</td>\n",
       "      <td>0.013</td>\n",
       "    </tr>\n",
       "  </tbody>\n",
       "</table>\n",
       "</div>"
      ],
      "text/plain": [
       "   Year  Month    MEI     CO2      CH4      N2O    CCl3F   CCl2F2        TSI  \\\n",
       "0  1983      5  2.556  345.96  1638.59  303.677  191.324  350.113  1366.1024   \n",
       "1  1983      6  2.167  345.52  1633.71  303.746  192.057  351.848  1366.1208   \n",
       "2  1983      7  1.741  344.15  1633.22  303.795  192.818  353.725  1366.2850   \n",
       "3  1983      8  1.130  342.25  1631.35  303.839  193.602  355.633  1366.4202   \n",
       "4  1983      9  0.428  340.17  1648.40  303.901  194.392  357.465  1366.2335   \n",
       "5  1983     10  0.002  340.30  1663.79  303.970  195.171  359.174  1366.0589   \n",
       "6  1983     11 -0.176  341.53  1658.23  304.032  195.921  360.758  1366.1072   \n",
       "7  1983     12 -0.176  343.07  1654.31  304.082  196.609  362.174  1366.0607   \n",
       "8  1984      1 -0.339  344.05  1658.98  304.130  197.219  363.359  1365.4261   \n",
       "9  1984      2 -0.565  344.77  1656.48  304.194  197.759  364.296  1365.6618   \n",
       "\n",
       "   Aerosols   Temp  \n",
       "0    0.0863  0.109  \n",
       "1    0.0794  0.118  \n",
       "2    0.0731  0.137  \n",
       "3    0.0673  0.176  \n",
       "4    0.0619  0.149  \n",
       "5    0.0569  0.093  \n",
       "6    0.0524  0.232  \n",
       "7    0.0486  0.078  \n",
       "8    0.0451  0.089  \n",
       "9    0.0416  0.013  "
      ]
     },
     "execution_count": 2,
     "metadata": {},
     "output_type": "execute_result"
    }
   ],
   "source": [
    "df = pd.read_csv('data/climate_change.csv')\n",
    "df.head(10)"
   ]
  },
  {
   "cell_type": "code",
   "execution_count": 3,
   "metadata": {},
   "outputs": [
    {
     "name": "stdout",
     "output_type": "stream",
     "text": [
      "              Year       Month         MEI         CO2          CH4  \\\n",
      "count   308.000000  308.000000  308.000000  308.000000   308.000000   \n",
      "mean   1995.662338    6.551948    0.275555  363.226753  1749.824513   \n",
      "std       7.423197    3.447214    0.937918   12.647125    46.051678   \n",
      "min    1983.000000    1.000000   -1.635000  340.170000  1629.890000   \n",
      "25%    1989.000000    4.000000   -0.398750  353.020000  1722.182500   \n",
      "50%    1996.000000    7.000000    0.237500  361.735000  1764.040000   \n",
      "75%    2002.000000   10.000000    0.830500  373.455000  1786.885000   \n",
      "max    2008.000000   12.000000    3.001000  388.500000  1814.180000   \n",
      "\n",
      "              N2O       CCl3F      CCl2F2          TSI    Aerosols        Temp  \n",
      "count  308.000000  308.000000  308.000000   308.000000  308.000000  308.000000  \n",
      "mean   312.391834  251.973068  497.524782  1366.070759    0.016657    0.256776  \n",
      "std      5.225131   20.231783   57.826899     0.399610    0.029050    0.179090  \n",
      "min    303.677000  191.324000  350.113000  1365.426100    0.001600   -0.282000  \n",
      "25%    308.111500  246.295500  472.410750  1365.717050    0.002800    0.121750  \n",
      "50%    311.507000  258.344000  528.356000  1365.980900    0.005750    0.248000  \n",
      "75%    316.979000  267.031000  540.524250  1366.363250    0.012600    0.407250  \n",
      "max    322.182000  271.494000  543.813000  1367.316200    0.149400    0.739000  \n"
     ]
    }
   ],
   "source": [
    "# examine the dataset\n",
    "\n",
    "print(df.describe())"
   ]
  },
  {
   "cell_type": "code",
   "execution_count": 4,
   "metadata": {},
   "outputs": [
    {
     "data": {
      "image/png": "[encoded data removed]",
      "text/plain": [
       "<Figure size 432x288 with 1 Axes>"
      ]
     },
     "metadata": {
      "needs_background": "light"
     },
     "output_type": "display_data"
    }
   ],
   "source": [
    "df['Year'] = pd.to_datetime(df['Year'], format='%Y')\n",
    "\n",
    "# Create a line plot of the average temperature over time\n",
    "sns.lineplot(x='Year', y='Temp', data=df)\n",
    "\n",
    "# Add labels and a title to the plot\n",
    "plt.xlabel('Year')\n",
    "plt.ylabel('Temperature (°C)')\n",
    "plt.title('Global temperature over time')\n",
    "\n",
    "# Show the plot\n",
    "plt.show()"
   ]
  },
  {
   "cell_type": "markdown",
   "metadata": {},
   "source": [
    "#### From the above chart, we know that the temperature increases overtme. Now, let's clean the data and see what affects it the most"
   ]
  },
  {
   "cell_type": "markdown",
   "metadata": {},
   "source": [
    "## Methodology\n",
    "### Data Cleaning"
   ]
  },
  {
   "cell_type": "code",
   "execution_count": 5,
   "metadata": {},
   "outputs": [
    {
     "name": "stdout",
     "output_type": "stream",
     "text": [
      "Year        0\n",
      "Month       0\n",
      "MEI         0\n",
      "CO2         0\n",
      "CH4         0\n",
      "N2O         0\n",
      "CCl3F       0\n",
      "CCl2F2      0\n",
      "TSI         0\n",
      "Aerosols    0\n",
      "Temp        0\n",
      "dtype: int64\n"
     ]
    }
   ],
   "source": [
    "# Check for missing values\n",
    "print(df.isnull().sum())\n",
    "\n",
    "# Drop rows with missing values\n",
    "df.dropna(inplace=True)"
   ]
  },
  {
   "cell_type": "code",
   "execution_count": 6,
   "metadata": {},
   "outputs": [
    {
     "name": "stdout",
     "output_type": "stream",
     "text": [
      "0\n"
     ]
    }
   ],
   "source": [
    "# Check for duplicates\n",
    "print(df.duplicated().sum())\n",
    "\n",
    "# Drop duplicates\n",
    "df.drop_duplicates(inplace=True)\n",
    "\n"
   ]
  },
  {
   "cell_type": "code",
   "execution_count": 7,
   "metadata": {},
   "outputs": [
    {
     "name": "stdout",
     "output_type": "stream",
     "text": [
      "Year        datetime64[ns]\n",
      "Month                int64\n",
      "MEI                float64\n",
      "CO2                float64\n",
      "CH4                float64\n",
      "N2O                float64\n",
      "CCl3F              float64\n",
      "CCl2F2             float64\n",
      "TSI                float64\n",
      "Aerosols           float64\n",
      "Temp               float64\n",
      "dtype: object\n"
     ]
    }
   ],
   "source": [
    "# Check the data types of each column\n",
    "print(df.dtypes)"
   ]
  },
  {
   "cell_type": "code",
   "execution_count": 8,
   "metadata": {},
   "outputs": [
    {
     "name": "stdout",
     "output_type": "stream",
     "text": [
      "             Month       MEI       CO2       CH4       N2O     CCl3F  \\\n",
      "Month     1.000000 -0.016345 -0.096287  0.017558  0.012395 -0.014914   \n",
      "MEI      -0.016345  1.000000 -0.152911 -0.105555 -0.162375  0.088171   \n",
      "CO2      -0.096287 -0.152911  1.000000  0.872253  0.981135  0.401284   \n",
      "CH4       0.017558 -0.105555  0.872253  1.000000  0.894409  0.713504   \n",
      "N2O       0.012395 -0.162375  0.981135  0.894409  1.000000  0.412155   \n",
      "CCl3F    -0.014914  0.088171  0.401284  0.713504  0.412155  1.000000   \n",
      "CCl2F2   -0.001084 -0.039836  0.823210  0.958237  0.839295  0.831381   \n",
      "TSI      -0.032754 -0.076826  0.017867  0.146335  0.039892  0.284629   \n",
      "Aerosols  0.014845  0.352351 -0.369265 -0.290381 -0.353499 -0.032302   \n",
      "Temp     -0.098016  0.135292  0.748505  0.699697  0.743242  0.380111   \n",
      "\n",
      "            CCl2F2       TSI  Aerosols      Temp  \n",
      "Month    -0.001084 -0.032754  0.014845 -0.098016  \n",
      "MEI      -0.039836 -0.076826  0.352351  0.135292  \n",
      "CO2       0.823210  0.017867 -0.369265  0.748505  \n",
      "CH4       0.958237  0.146335 -0.290381  0.699697  \n",
      "N2O       0.839295  0.039892 -0.353499  0.743242  \n",
      "CCl3F     0.831381  0.284629 -0.032302  0.380111  \n",
      "CCl2F2    1.000000  0.189270 -0.243785  0.688944  \n",
      "TSI       0.189270  1.000000  0.083238  0.182186  \n",
      "Aerosols -0.243785  0.083238  1.000000 -0.392069  \n",
      "Temp      0.688944  0.182186 -0.392069  1.000000  \n"
     ]
    }
   ],
   "source": [
    "# Compute the correlation matrix\n",
    "corr_matrix = df.corr()\n",
    "\n",
    "# Print the correlation matrix\n",
    "print(corr_matrix)"
   ]
  },
  {
   "cell_type": "code",
   "execution_count": 9,
   "metadata": {},
   "outputs": [
    {
     "data": {
      "image/png": "[encoded data removed]",
      "text/plain": [
       "<Figure size 432x288 with 2 Axes>"
      ]
     },
     "metadata": {
      "needs_background": "light"
     },
     "output_type": "display_data"
    },
    {
     "data": {
      "text/plain": [
       "<Figure size 1440x1152 with 0 Axes>"
      ]
     },
     "metadata": {},
     "output_type": "display_data"
    },
    {
     "name": "stdout",
     "output_type": "stream",
     "text": [
      "Temp        1.000000\n",
      "CO2         0.748505\n",
      "N2O         0.743242\n",
      "CH4         0.699697\n",
      "CCl2F2      0.688944\n",
      "CCl3F       0.380111\n",
      "TSI         0.182186\n",
      "MEI         0.135292\n",
      "Month      -0.098016\n",
      "Aerosols   -0.392069\n",
      "Name: Temp, dtype: float64\n"
     ]
    }
   ],
   "source": [
    "# Plot a heatmap of the correlation matrix\n",
    "sns.heatmap(corr_matrix, annot=True, cmap='coolwarm')\n",
    "\n",
    "plt.figure(figsize=(20, 16))\n",
    "\n",
    "# Show the plot\n",
    "plt.show()\n",
    "\n",
    "# Check the correlation between variables and temperature\n",
    "corr_with_temp = corr_matrix['Temp'].sort_values(ascending=False)\n",
    "print(corr_with_temp)"
   ]
  },
  {
   "cell_type": "markdown",
   "metadata": {},
   "source": [
    "#### Based on the results, we can see that CO2, N20. CH4 have the highest correlation with temperature. This suggests that these variables may have a strong influence on global temperature and should be further investigated in climate change research."
   ]
  },
  {
   "cell_type": "code",
   "execution_count": 10,
   "metadata": {},
   "outputs": [
    {
     "data": {
      "text/html": [
       "<div>\n",
       "<style scoped>\n",
       "    .dataframe tbody tr th:only-of-type {\n",
       "        vertical-align: middle;\n",
       "    }\n",
       "\n",
       "    .dataframe tbody tr th {\n",
       "        vertical-align: top;\n",
       "    }\n",
       "\n",
       "    .dataframe thead th {\n",
       "        text-align: right;\n",
       "    }\n",
       "</style>\n",
       "<table border=\"1\" class=\"dataframe\">\n",
       "  <thead>\n",
       "    <tr style=\"text-align: right;\">\n",
       "      <th></th>\n",
       "      <th>MEI</th>\n",
       "      <th>CO2</th>\n",
       "      <th>CH4</th>\n",
       "      <th>N2O</th>\n",
       "      <th>CCl3F</th>\n",
       "      <th>CCl2F2</th>\n",
       "      <th>TSI</th>\n",
       "      <th>Aerosols</th>\n",
       "      <th>Temp</th>\n",
       "    </tr>\n",
       "  </thead>\n",
       "  <tbody>\n",
       "    <tr>\n",
       "      <th>0</th>\n",
       "      <td>2.556</td>\n",
       "      <td>345.96</td>\n",
       "      <td>1638.59</td>\n",
       "      <td>303.677</td>\n",
       "      <td>191.324</td>\n",
       "      <td>350.113</td>\n",
       "      <td>1366.1024</td>\n",
       "      <td>0.0863</td>\n",
       "      <td>0.109</td>\n",
       "    </tr>\n",
       "    <tr>\n",
       "      <th>1</th>\n",
       "      <td>2.167</td>\n",
       "      <td>345.52</td>\n",
       "      <td>1633.71</td>\n",
       "      <td>303.746</td>\n",
       "      <td>192.057</td>\n",
       "      <td>351.848</td>\n",
       "      <td>1366.1208</td>\n",
       "      <td>0.0794</td>\n",
       "      <td>0.118</td>\n",
       "    </tr>\n",
       "    <tr>\n",
       "      <th>2</th>\n",
       "      <td>1.741</td>\n",
       "      <td>344.15</td>\n",
       "      <td>1633.22</td>\n",
       "      <td>303.795</td>\n",
       "      <td>192.818</td>\n",
       "      <td>353.725</td>\n",
       "      <td>1366.2850</td>\n",
       "      <td>0.0731</td>\n",
       "      <td>0.137</td>\n",
       "    </tr>\n",
       "    <tr>\n",
       "      <th>3</th>\n",
       "      <td>1.130</td>\n",
       "      <td>342.25</td>\n",
       "      <td>1631.35</td>\n",
       "      <td>303.839</td>\n",
       "      <td>193.602</td>\n",
       "      <td>355.633</td>\n",
       "      <td>1366.4202</td>\n",
       "      <td>0.0673</td>\n",
       "      <td>0.176</td>\n",
       "    </tr>\n",
       "    <tr>\n",
       "      <th>4</th>\n",
       "      <td>0.428</td>\n",
       "      <td>340.17</td>\n",
       "      <td>1648.40</td>\n",
       "      <td>303.901</td>\n",
       "      <td>194.392</td>\n",
       "      <td>357.465</td>\n",
       "      <td>1366.2335</td>\n",
       "      <td>0.0619</td>\n",
       "      <td>0.149</td>\n",
       "    </tr>\n",
       "    <tr>\n",
       "      <th>5</th>\n",
       "      <td>0.002</td>\n",
       "      <td>340.30</td>\n",
       "      <td>1663.79</td>\n",
       "      <td>303.970</td>\n",
       "      <td>195.171</td>\n",
       "      <td>359.174</td>\n",
       "      <td>1366.0589</td>\n",
       "      <td>0.0569</td>\n",
       "      <td>0.093</td>\n",
       "    </tr>\n",
       "    <tr>\n",
       "      <th>6</th>\n",
       "      <td>-0.176</td>\n",
       "      <td>341.53</td>\n",
       "      <td>1658.23</td>\n",
       "      <td>304.032</td>\n",
       "      <td>195.921</td>\n",
       "      <td>360.758</td>\n",
       "      <td>1366.1072</td>\n",
       "      <td>0.0524</td>\n",
       "      <td>0.232</td>\n",
       "    </tr>\n",
       "    <tr>\n",
       "      <th>7</th>\n",
       "      <td>-0.176</td>\n",
       "      <td>343.07</td>\n",
       "      <td>1654.31</td>\n",
       "      <td>304.082</td>\n",
       "      <td>196.609</td>\n",
       "      <td>362.174</td>\n",
       "      <td>1366.0607</td>\n",
       "      <td>0.0486</td>\n",
       "      <td>0.078</td>\n",
       "    </tr>\n",
       "    <tr>\n",
       "      <th>8</th>\n",
       "      <td>-0.339</td>\n",
       "      <td>344.05</td>\n",
       "      <td>1658.98</td>\n",
       "      <td>304.130</td>\n",
       "      <td>197.219</td>\n",
       "      <td>363.359</td>\n",
       "      <td>1365.4261</td>\n",
       "      <td>0.0451</td>\n",
       "      <td>0.089</td>\n",
       "    </tr>\n",
       "    <tr>\n",
       "      <th>9</th>\n",
       "      <td>-0.565</td>\n",
       "      <td>344.77</td>\n",
       "      <td>1656.48</td>\n",
       "      <td>304.194</td>\n",
       "      <td>197.759</td>\n",
       "      <td>364.296</td>\n",
       "      <td>1365.6618</td>\n",
       "      <td>0.0416</td>\n",
       "      <td>0.013</td>\n",
       "    </tr>\n",
       "  </tbody>\n",
       "</table>\n",
       "</div>"
      ],
      "text/plain": [
       "     MEI     CO2      CH4      N2O    CCl3F   CCl2F2        TSI  Aerosols  \\\n",
       "0  2.556  345.96  1638.59  303.677  191.324  350.113  1366.1024    0.0863   \n",
       "1  2.167  345.52  1633.71  303.746  192.057  351.848  1366.1208    0.0794   \n",
       "2  1.741  344.15  1633.22  303.795  192.818  353.725  1366.2850    0.0731   \n",
       "3  1.130  342.25  1631.35  303.839  193.602  355.633  1366.4202    0.0673   \n",
       "4  0.428  340.17  1648.40  303.901  194.392  357.465  1366.2335    0.0619   \n",
       "5  0.002  340.30  1663.79  303.970  195.171  359.174  1366.0589    0.0569   \n",
       "6 -0.176  341.53  1658.23  304.032  195.921  360.758  1366.1072    0.0524   \n",
       "7 -0.176  343.07  1654.31  304.082  196.609  362.174  1366.0607    0.0486   \n",
       "8 -0.339  344.05  1658.98  304.130  197.219  363.359  1365.4261    0.0451   \n",
       "9 -0.565  344.77  1656.48  304.194  197.759  364.296  1365.6618    0.0416   \n",
       "\n",
       "    Temp  \n",
       "0  0.109  \n",
       "1  0.118  \n",
       "2  0.137  \n",
       "3  0.176  \n",
       "4  0.149  \n",
       "5  0.093  \n",
       "6  0.232  \n",
       "7  0.078  \n",
       "8  0.089  \n",
       "9  0.013  "
      ]
     },
     "execution_count": 10,
     "metadata": {},
     "output_type": "execute_result"
    }
   ],
   "source": [
    "df = df.drop(['Year', 'Month'], axis=1)\n",
    "\n",
    "df.head(10)"
   ]
  },
  {
   "cell_type": "markdown",
   "metadata": {},
   "source": [
    "<br>\n",
    "<center>\n",
    "<img src=\"images/dc.jfif\" width=500 />\n",
    "</center>\n",
    "<br>\n",
    "\n",
    "<p>So, let's analyze this relationship using some kinds of data science methology.</p>\n",
    "\n"
   ]
  },
  {
   "cell_type": "markdown",
   "metadata": {},
   "source": [
    "<h1>Data Science<h1>\n",
    "    <h2>Random Forest</h2>"
   ]
  },
  {
   "cell_type": "code",
   "execution_count": 11,
   "metadata": {},
   "outputs": [],
   "source": [
    "from sklearn.ensemble import RandomForestRegressor\n",
    "from sklearn import metrics\n",
    "from sklearn.model_selection import train_test_split"
   ]
  },
  {
   "cell_type": "code",
   "execution_count": 12,
   "metadata": {},
   "outputs": [],
   "source": [
    "# Create X and y variables\n",
    "X = df.drop(['Temp'], axis=1)\n",
    "y = df['Temp']\n",
    "\n",
    "# Split the data into training and testing sets\n",
    "from sklearn.model_selection import train_test_split\n",
    "X_train, X_test, y_train, y_test = train_test_split(X, y, test_size=0.2, random_state=42)\n",
    "\n",
    "# Create a Random Forest model\n",
    "rf_model = RandomForestRegressor(n_estimators=100, random_state=42)\n",
    "\n",
    "# Train the model using the training data\n",
    "rf_model.fit(X_train, y_train)\n",
    "\n",
    "# Get the feature importances\n",
    "importances = rf_model.feature_importances_\n",
    "\n"
   ]
  },
  {
   "cell_type": "code",
   "execution_count": 13,
   "metadata": {},
   "outputs": [
    {
     "name": "stdout",
     "output_type": "stream",
     "text": [
      "The R^2 score of Random Forest Regression for training set is 0.9759817197832275\n",
      "\n",
      "The R^2 score of Random Forest Regression for testing set is 0.8256708097003485\n"
     ]
    }
   ],
   "source": [
    "# Get R^2 score (indicator of accuracy 1 is perfect, 0 is horrible)\n",
    "r_score_train = rf_model.score(X_train, y_train)\n",
    "r_score_test = rf_model.score(X_test, y_test)\n",
    "print('The R^2 score of Random Forest Regression for training set is', r_score_train)\n",
    "print('\\nThe R^2 score of Random Forest Regression for testing set is', r_score_test)"
   ]
  },
  {
   "cell_type": "markdown",
   "metadata": {},
   "source": [
    "<p>The high R^2 indicate that this is a good enough model, let us see the prediction.</p>"
   ]
  },
  {
   "cell_type": "code",
   "execution_count": 14,
   "metadata": {},
   "outputs": [],
   "source": [
    "y_pred = rf_model.predict(X_test)"
   ]
  },
  {
   "cell_type": "code",
   "execution_count": 15,
   "metadata": {},
   "outputs": [
    {
     "data": {
      "text/plain": [
       "<matplotlib.legend.Legend at 0x7fad84d6a610>"
      ]
     },
     "execution_count": 15,
     "metadata": {},
     "output_type": "execute_result"
    },
    {
     "data": {
      "image/png": "[encoded data removed]",
      "text/plain": [
       "<Figure size 432x288 with 1 Axes>"
      ]
     },
     "metadata": {
      "needs_background": "light"
     },
     "output_type": "display_data"
    }
   ],
   "source": [
    "y_test2 = y_test.values\n",
    "plt.plot(y_pred,label = 'prediction') #blue\n",
    "plt.plot(y_test2,label = 'test')#orange\n",
    "plt.legend()"
   ]
  },
  {
   "cell_type": "markdown",
   "metadata": {},
   "source": [
    "<p>The prediction is not bad at all.</p>"
   ]
  },
  {
   "cell_type": "code",
   "execution_count": 16,
   "metadata": {},
   "outputs": [
    {
     "data": {
      "text/plain": [
       "[('CCl2F2', 0.5725176770596435),\n",
       " ('N2O', 0.09850524251121717),\n",
       " ('MEI', 0.09075103738596395),\n",
       " ('Aerosols', 0.08645796334704213),\n",
       " ('CCl3F', 0.06464157558539828),\n",
       " ('CO2', 0.03349347548729334),\n",
       " ('TSI', 0.03258579016982773),\n",
       " ('CH4', 0.021047238453613875)]"
      ]
     },
     "execution_count": 16,
     "metadata": {},
     "output_type": "execute_result"
    }
   ],
   "source": [
    "#Random forest also gives us the most important features in predicting the Temp.\n",
    "sorted(zip(X.columns, rf_model.feature_importances_),\n",
    "        key=lambda x: x[1], reverse=True)"
   ]
  },
  {
   "cell_type": "markdown",
   "metadata": {},
   "source": [
    "<p> Now, we can see CC12F2 is the most important affecting factor. </p>"
   ]
  },
  {
   "cell_type": "markdown",
   "metadata": {},
   "source": [
    "## DecisionTree + Adaboost\n",
    "\n",
    "Apart from Random Forest, we can also try adaboost regression. Adaboost is one of the most famous boosting algorithm due to its simplicity and high accuracy."
   ]
  },
  {
   "cell_type": "code",
   "execution_count": 17,
   "metadata": {},
   "outputs": [],
   "source": [
    "from sklearn.ensemble import AdaBoostRegressor\n",
    "from sklearn.tree import DecisionTreeRegressor"
   ]
  },
  {
   "cell_type": "code",
   "execution_count": 18,
   "metadata": {},
   "outputs": [
    {
     "name": "stdout",
     "output_type": "stream",
     "text": [
      "The R^2 score of Adaboost Regression for training set is 0.8744633152169913\n",
      "The R^2 score of Adaboost Regression for testing set is 0.7715850951355776\n"
     ]
    }
   ],
   "source": [
    "\n",
    "df = pd.read_csv('data/climate_change.csv')\n",
    "# Drop rows with missing values\n",
    "df.dropna(inplace=True)\n",
    "\n",
    "# Create X and y variables\n",
    "X = df.drop(['Year', 'Temp'], axis=1)\n",
    "y = df['Temp']\n",
    "\n",
    "# Split the data into training and testing sets\n",
    "from sklearn.model_selection import train_test_split\n",
    "X_train, X_test, y_train, y_test = train_test_split(X, y, test_size=0.2, random_state=42)\n",
    "\n",
    "# Create a Decision Tree model\n",
    "base_model = DecisionTreeRegressor(max_depth=3)\n",
    "\n",
    "# Create an AdaBoost model\n",
    "model = AdaBoostRegressor(base_estimator=base_model, n_estimators=100, random_state=42)\n",
    "\n",
    "# Train the model using the training data\n",
    "model.fit(X_train, y_train)\n",
    "\n",
    "print('The R^2 score of Adaboost Regression for training set is', model.score(X_train, y_train))\n",
    "print('The R^2 score of Adaboost Regression for testing set is', model.score(X_test, y_test))\n"
   ]
  },
  {
   "cell_type": "code",
   "execution_count": 19,
   "metadata": {},
   "outputs": [
    {
     "name": "stdout",
     "output_type": "stream",
     "text": [
      "    feature  importance\n",
      "6    CCl2F2    0.351616\n",
      "8  Aerosols    0.133154\n",
      "4       N2O    0.128484\n",
      "1       MEI    0.114126\n",
      "2       CO2    0.090173\n",
      "7       TSI    0.071807\n",
      "5     CCl3F    0.051544\n",
      "3       CH4    0.034575\n",
      "0     Month    0.024520\n"
     ]
    }
   ],
   "source": [
    "\n",
    "# Get the feature importances\n",
    "importances = model.feature_importances_\n",
    "\n",
    "# Create a dataframe of feature importances\n",
    "feature_importances = pd.DataFrame({'feature': X.columns, 'importance': importances}).sort_values('importance', ascending=False)\n",
    "\n",
    "# Print the feature importances\n",
    "print(feature_importances)\n"
   ]
  },
  {
   "cell_type": "markdown",
   "metadata": {},
   "source": [
    "<p> Same as what the random forest indicated, Now, we can see CCl2F2 is the most important affecting factor. CFC-12 (also known as dichlorodifluoromethane or Freon-12) is a chlorofluorocarbon (CFC) compound that was widely used as a refrigerant and propellant in aerosol cans, among other industrial and commercial applications. CFC-12 is a colorless, non-toxic, and non-flammable gas at room temperature and was commonly used in air conditioning and refrigeration systems until its production was banned by the Montreal Protocol due to its harmful impact on the ozone layer. It is one of several CFCs that were found to contribute to the depletion of the ozone layer in the Earth's atmosphere.</p>"
   ]
  },
  {
   "cell_type": "markdown",
   "metadata": {},
   "source": [
    "## Linear Regression"
   ]
  },
  {
   "cell_type": "markdown",
   "metadata": {},
   "source": [
    "<p>I want to use linear regression and formula to see what's the most important factors</p>"
   ]
  },
  {
   "cell_type": "code",
   "execution_count": 20,
   "metadata": {},
   "outputs": [
    {
     "name": "stdout",
     "output_type": "stream",
     "text": [
      "Intercept: 0.2566109961148281\n",
      "Month : -0.009409890367558089\n",
      "MEI : 0.0568616172289876\n",
      "CO2 : 0.03472134474500916\n",
      "CH4 : 0.00548145853209604\n",
      "N2O : -0.05671290228437046\n",
      "CCl3F : -0.14516037714990915\n",
      "CCl2F2 : 0.24628297773298602\n",
      "TSI : 0.03186924594584482\n",
      "Aerosols : -0.04507468129466603\n",
      "Mean squared error: 0.009420760454768988\n"
     ]
    }
   ],
   "source": [
    "from sklearn.linear_model import LinearRegression\n",
    "from sklearn.metrics import mean_squared_error\n",
    "\n",
    "\n",
    "from sklearn.preprocessing import StandardScaler\n",
    "\n",
    "# Create a StandardScaler object and fit_transform the features\n",
    "scaler = StandardScaler()\n",
    "X_scaled = scaler.fit_transform(X)\n",
    "\n",
    "# Train a linear regression model using the scaled features\n",
    "from sklearn.linear_model import LinearRegression\n",
    "model = LinearRegression()\n",
    "model.fit(X_scaled, y)\n",
    "\n",
    "\n",
    "# Split the data into training and testing sets\n",
    "X_train, X_test, y_train, y_test = train_test_split(X_scaled, y, test_size=0.2, random_state=42)\n",
    "\n",
    "# Create a Linear Regression model\n",
    "model = LinearRegression()\n",
    "\n",
    "# Train the model using the training data\n",
    "model.fit(X_train, y_train)\n",
    "\n",
    "# Get the coefficients and intercept\n",
    "coefficients = model.coef_\n",
    "intercept = model.intercept_\n",
    "\n",
    "# Print the coefficients and intercept\n",
    "print('Intercept:', intercept)\n",
    "for i in range(len(X.columns)):\n",
    "    print(X.columns[i], ':', coefficients[i])\n",
    "\n",
    "# Make predictions on the testing data\n",
    "y_pred = model.predict(X_test)\n",
    "\n",
    "# Calculate the mean squared error\n",
    "mse = mean_squared_error(y_test, y_pred)\n",
    "print('Mean squared error:', mse)"
   ]
  },
  {
   "cell_type": "code",
   "execution_count": 21,
   "metadata": {},
   "outputs": [
    {
     "name": "stdout",
     "output_type": "stream",
     "text": [
      "Linear regression formula:\n",
      "y = 0.26 + -0.01 * Month + 0.06 * MEI + 0.03 * CO2 + 0.01 * CH4 + -0.06 * N2O + -0.15 * CCl3F + 0.25 * CCl2F2 + 0.03 * TSI + -0.05 * Aerosols\n"
     ]
    }
   ],
   "source": [
    "# Get the coefficients and intercept\n",
    "coefficients = model.coef_\n",
    "intercept = model.intercept_\n",
    "feature_names = X.columns\n",
    "\n",
    "# Construct the formula\n",
    "formula = 'y = {:.2f} + '.format(intercept)\n",
    "for i in range(len(X.columns)):\n",
    "    formula += '{:.2f} * {} + '.format(coefficients[i], X.columns[i])\n",
    "\n",
    "# Print the formula\n",
    "print('Linear regression formula:')\n",
    "print(formula[:-3])  # Remove the last ' + ' characters"
   ]
  },
  {
   "cell_type": "code",
   "execution_count": 22,
   "metadata": {},
   "outputs": [
    {
     "name": "stdout",
     "output_type": "stream",
     "text": [
      "Top 5 features:\n",
      "CCl2F2: 0.25\n",
      "CCl3F: -0.15\n",
      "MEI: 0.06\n",
      "N2O: -0.06\n",
      "Aerosols: -0.05\n"
     ]
    }
   ],
   "source": [
    "feature_names = X.columns\n",
    "# Sort the coefficients in descending order\n",
    "idx = np.argsort(abs(coefficients))[::-1]\n",
    "coefficients_sorted = coefficients[idx]\n",
    "feature_names_sorted = feature_names[idx]\n",
    "\n",
    "# Print the top 5 features\n",
    "print('Top 5 features:')\n",
    "for i in range(5):\n",
    "    print('{}: {:.2f}'.format(feature_names_sorted[i], coefficients_sorted[i]))"
   ]
  },
  {
   "cell_type": "markdown",
   "metadata": {},
   "source": [
    "<p>From the linear regression, we can also see that CCl2F2 plays the most factors.</p>"
   ]
  },
  {
   "cell_type": "markdown",
   "metadata": {},
   "source": [
    "<h1> Other data minging technical </h1>"
   ]
  },
  {
   "cell_type": "markdown",
   "metadata": {},
   "source": [
    "# Discussion"
   ]
  },
  {
   "cell_type": "markdown",
   "metadata": {},
   "source": [
    "# Future work"
   ]
  },
  {
   "cell_type": "markdown",
   "metadata": {},
   "source": [
    "# Conclusion"
   ]
  },
  {
   "cell_type": "code",
   "execution_count": null,
   "metadata": {},
   "outputs": [],
   "source": []
  }
 ],
 "metadata": {
  "kernelspec": {
   "display_name": "Python 3",
   "language": "python",
   "name": "python3"
  },
  "language_info": {
   "codemirror_mode": {
    "name": "ipython",
    "version": 3
   },
   "file_extension": ".py",
   "mimetype": "text/x-python",
   "name": "python",
   "nbconvert_exporter": "python",
   "pygments_lexer": "ipython3",
   "version": "3.7.4"
  }
 },
 "nbformat": 4,
 "nbformat_minor": 2
}
